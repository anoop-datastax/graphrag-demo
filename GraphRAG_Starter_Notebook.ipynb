{
 "cells": [
  {
   "cell_type": "markdown",
   "id": "35ae958f",
   "metadata": {},
   "source": [
    "# GraphRAG Demo - Jupyter Notebook\n",
    "Welcome! This notebook will guide you through setting up and running the GraphRAG demo."
   ]
  },
  {
   "cell_type": "markdown",
   "id": "9a74a660",
   "metadata": {},
   "source": [
    "## Step 1: Load Environment Variables"
   ]
  },
  {
   "cell_type": "code",
   "execution_count": 1,
   "id": "c0ddfba8",
   "metadata": {},
   "outputs": [
    {
     "name": "stdout",
     "output_type": "stream",
     "text": [
      "✅ Environment Loaded\n",
      "OpenAI Key Present: True\n"
     ]
    }
   ],
   "source": [
    "import os\n",
    "from dotenv import load_dotenv\n",
    "\n",
    "load_dotenv()\n",
    "\n",
    "print(\"✅ Environment Loaded\")\n",
    "print(\"OpenAI Key Present:\", bool(os.getenv(\"OPENAI_API_KEY\")))"
   ]
  },
  {
   "cell_type": "markdown",
   "id": "87cc10f3",
   "metadata": {},
   "source": [
    "## Step 2: Create and Visualize a Simple Graph"
   ]
  },
  {
   "cell_type": "code",
   "execution_count": 2,
   "id": "d47e2ee4",
   "metadata": {},
   "outputs": [
    {
     "data": {
      "image/png": "[encoded data removed]",
      "text/plain": [
       "<Figure size 640x480 with 1 Axes>"
      ]
     },
     "metadata": {},
     "output_type": "display_data"
    }
   ],
   "source": [
    "import networkx as nx\n",
    "import matplotlib.pyplot as plt\n",
    "\n",
    "G = nx.Graph()\n",
    "G.add_edge(\"Hello\", \"World\")\n",
    "G.add_edge(\"World\", \"LangChain\")\n",
    "\n",
    "nx.draw(G, with_labels=True)\n",
    "plt.title(\"NetworkX Graph\")\n",
    "plt.show()"
   ]
  },
  {
   "cell_type": "markdown",
   "id": "9ab1cb00",
   "metadata": {},
   "source": [
    "## Step 3: Setup OpenAI Embeddings"
   ]
  },
  {
   "cell_type": "code",
   "execution_count": 3,
   "id": "c70cfc78",
   "metadata": {},
   "outputs": [
    {
     "name": "stdout",
     "output_type": "stream",
     "text": [
      "✅ Generated Embedding Vector Length: 1536\n"
     ]
    }
   ],
   "source": [
    "from langchain_openai import OpenAIEmbeddings\n",
    "\n",
    "embedding_model = OpenAIEmbeddings(model=\"text-embedding-3-small\")\n",
    "test_text = \"This is a test sentence.\"\n",
    "embedding_vector = embedding_model.embed_query(test_text)\n",
    "\n",
    "print(f\"✅ Generated Embedding Vector Length: {len(embedding_vector)}\")"
   ]
  },
  {
   "cell_type": "markdown",
   "id": "67e49980",
   "metadata": {},
   "source": [
    "## Step 4: Initialize AstraDB Vector Store"
   ]
  },
  {
   "cell_type": "code",
   "execution_count": 4,
   "id": "a657542d",
   "metadata": {},
   "outputs": [
    {
     "name": "stdout",
     "output_type": "stream",
     "text": [
      "🔗 AstraDB VectorStore Ready\n"
     ]
    }
   ],
   "source": [
    "from langchain_astradb import AstraDBVectorStore\n",
    "\n",
    "vectorstore = AstraDBVectorStore(\n",
    "    collection_name=os.getenv(\"ASTRA_DB_COLLECTION\"),\n",
    "    namespace=os.getenv(\"ASTRA_DB_KEYSPACE\"),\n",
    "    embedding=embedding_model,\n",
    ")\n",
    "\n",
    "print(\"🔗 AstraDB VectorStore Ready\")"
   ]
  },
  {
   "cell_type": "markdown",
   "id": "aa0476d8",
   "metadata": {},
   "source": [
    "## Step 5: Download PDFs from S3"
   ]
  },
  {
   "cell_type": "code",
   "execution_count": 5,
   "id": "2228e63c",
   "metadata": {},
   "outputs": [
    {
     "name": "stdout",
     "output_type": "stream",
     "text": [
      "Error: An error occurred (AccessDenied) when calling the ListObjectsV2 operation: User: arn:aws:iam::841162697161:user/appdev is not authorized to perform: s3:ListBucket on resource: \"arn:aws:s3:::pacp-langflow-bucket\" with an explicit deny in an identity-based policy\n"
     ]
    }
   ],
   "source": [
    "import boto3\n",
    "\n",
    "BUCKET_NAME = \"pacp-langflow-bucket\"\n",
    "PREFIX = \"my_pdfs/\"\n",
    "LOCAL_FOLDER = \"./\"\n",
    "\n",
    "os.makedirs(LOCAL_FOLDER, exist_ok=True)\n",
    "s3_client = boto3.client(\"s3\")\n",
    "\n",
    "def download_pdfs_from_s3():\n",
    "    try:\n",
    "        response = s3_client.list_objects_v2(Bucket=BUCKET_NAME, Prefix=PREFIX)\n",
    "        if \"Contents\" in response:\n",
    "            for obj in response[\"Contents\"]:\n",
    "                file_key = obj[\"Key\"]\n",
    "                if file_key.endswith(\".pdf\"):\n",
    "                    local_file_path = os.path.join(LOCAL_FOLDER, os.path.basename(file_key))\n",
    "                    s3_client.download_file(BUCKET_NAME, file_key, local_file_path)\n",
    "                    print(f\"✅ Downloaded: {file_key} to {local_file_path}\")\n",
    "        else:\n",
    "            print(\"No files found in the specified prefix.\")\n",
    "    except Exception as e:\n",
    "        print(f\"Error: {e}\")\n",
    "\n",
    "download_pdfs_from_s3()"
   ]
  },
  {
   "cell_type": "markdown",
   "id": "f7a170e5",
   "metadata": {},
   "source": [
    "## Step 6: Load PDFs using LangChain"
   ]
  },
  {
   "cell_type": "code",
   "execution_count": null,
   "id": "6d410c1b",
   "metadata": {},
   "outputs": [],
   "source": [
    "from langchain_community.document_loaders import PyPDFLoader\n",
    "\n",
    "pdf_files = [f for f in os.listdir(LOCAL_FOLDER) if f.endswith(\".pdf\")]\n",
    "pages = []\n",
    "\n",
    "for file in pdf_files:\n",
    "    path = os.path.join(LOCAL_FOLDER, file)\n",
    "    loader = PyPDFLoader(path)\n",
    "    async for page in loader.alazy_load():\n",
    "        pages.append(page)\n",
    "\n",
    "print(f\"✅ Loaded {len(pages)} pages from {len(pdf_files)} PDF files\")"
   ]
  },
  {
   "cell_type": "markdown",
   "id": "d5f629df",
   "metadata": {},
   "source": [
    "## Step 7: Save Documents to AstraDB"
   ]
  },
  {
   "cell_type": "code",
   "execution_count": null,
   "id": "5b0cfbc0",
   "metadata": {},
   "outputs": [],
   "source": [
    "vectorstore.add_documents(pages)\n",
    "print(\"✅ Documents added to AstraDB\")"
   ]
  },
  {
   "cell_type": "markdown",
   "id": "cdef63e3",
   "metadata": {},
   "source": [
    "## Step 8: Run a Vector Search Query"
   ]
  },
  {
   "cell_type": "code",
   "execution_count": null,
   "id": "f1979257",
   "metadata": {},
   "outputs": [],
   "source": [
    "import pprint\n",
    "\n",
    "query_text = \"Information about Plato\"\n",
    "results = vectorstore.similarity_search(query_text, k=3)\n",
    "\n",
    "for doc in results:\n",
    "    print(doc.page_content)\n",
    "    pprint.pprint(doc.metadata)\n",
    "    print(\"-------------------\")"
   ]
  }
 ],
 "metadata": {
  "kernelspec": {
   "display_name": "Python 3 (ipykernel)",
   "language": "python",
   "name": "python3"
  },
  "language_info": {
   "codemirror_mode": {
    "name": "ipython",
    "version": 3
   },
   "file_extension": ".py",
   "mimetype": "text/x-python",
   "name": "python",
   "nbconvert_exporter": "python",
   "pygments_lexer": "ipython3",
   "version": "3.11.4"
  }
 },
 "nbformat": 4,
 "nbformat_minor": 5
}
