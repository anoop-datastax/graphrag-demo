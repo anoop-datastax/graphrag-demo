{
 "cells": [
  {
   "cell_type": "code",
   "execution_count": 1,
   "id": "730d18f7",
   "metadata": {},
   "outputs": [
    {
     "name": "stdout",
     "output_type": "stream",
     "text": [
      "✅ Environment Loaded\n",
      "OpenAI Key: True\n"
     ]
    }
   ],
   "source": [
    "import os\n",
    "from dotenv import load_dotenv\n",
    "load_dotenv()\n",
    "\n",
    "print(\"✅ Environment Loaded\")\n",
    "print(\"OpenAI Key:\", bool(os.getenv(\"OPENAI_API_KEY\")))\n"
   ]
  },
  {
   "cell_type": "code",
   "execution_count": 2,
   "id": "0f12cd94",
   "metadata": {},
   "outputs": [
    {
     "name": "stderr",
     "output_type": "stream",
     "text": [
      "Matplotlib is building the font cache; this may take a moment.\n"
     ]
    },
    {
     "name": "stdout",
     "output_type": "stream",
     "text": [
      "✅ OpenAI Key Loaded: True\n"
     ]
    },
    {
     "data": {
      "image/png": "[encoded data removed]",
      "text/plain": [
       "<Figure size 640x480 with 1 Axes>"
      ]
     },
     "metadata": {},
     "output_type": "display_data"
    },
    {
     "name": "stdout",
     "output_type": "stream",
     "text": [
      "OpenAI embedding ready Generated Embedding Vector Length: 1536\n",
      "🔗 AstraDB VectorStore Ready\n"
     ]
    }
   ],
   "source": [
    "import os\n",
    "from dotenv import load_dotenv\n",
    "import networkx as nx\n",
    "from pyvis.network import Network\n",
    "import matplotlib.pyplot as plt\n",
    "\n",
    "# LangChain imports\n",
    "from langchain_openai import OpenAIEmbeddings\n",
    "from langchain_astradb.graph_vectorstores import AstraDBVectorStore\n",
    "from langchain_community.graphs.networkx_graph import NetworkxEntityGraph\n",
    "\n",
    "# Load environment variables\n",
    "load_dotenv()\n",
    "# Check OpenAI key exists\n",
    "openai_key = os.getenv(\"OPENAI_API_KEY\")\n",
    "\n",
    "print(f\"✅ OpenAI Key Loaded: {bool(openai_key)}\")\n",
    "# Create a simple graph\n",
    "G = nx.Graph()\n",
    "G.add_edge(\"Hello\", \"World\")\n",
    "G.add_edge(\"World\", \"LangChain\")\n",
    "# Visualize with matplotlib\n",
    "nx.draw(G, with_labels=True)\n",
    "plt.title(\"NetworkX Graph\")\n",
    "plt.show()\n",
    "# Visualize with pyvis\n",
    "net = Network(notebook=False)\n",
    "net.from_nx(G)\n",
    "\n",
    "\n",
    "# Create dummy embedding (OpenAI will fail if no key is set, but we test it)\n",
    "embedding_model = OpenAIEmbeddings(model=\"text-embedding-3-small\")\n",
    "# Test text for embedding\n",
    "test_text = \"This is a test sentence.\"\n",
    "\n",
    "# Generate the embedding\n",
    "embedding_vector = embedding_model.embed_query(test_text)\n",
    "\n",
    "# Measure the length of the vector\n",
    "vector_length = len(embedding_vector)\n",
    "\n",
    "# Output results\n",
    "print(f\"OpenAI embedding ready Generated Embedding Vector Length: {vector_length}\")\n",
    "\n",
    "\n",
    "vectorstore = AstraDBVectorStore(\n",
    "    collection_name=\"testgraphrag\",\n",
    "    namespace=os.getenv(\"ASTRA_DB_KEYSPACE\"),\n",
    "    embedding=embedding_model,\n",
    ")\n",
    "vectorstore.astra_env.collection\n",
    "print(\"🔗 AstraDB VectorStore Ready\")"
   ]
  },
  {
   "cell_type": "code",
   "execution_count": null,
   "id": "34b2528f",
   "metadata": {},
   "outputs": [],
   "source": []
  }
 ],
 "metadata": {
  "kernelspec": {
   "display_name": "Python (GraphRAG)",
   "language": "python",
   "name": "graphrag-demo"
  },
  "language_info": {
   "codemirror_mode": {
    "name": "ipython",
    "version": 3
   },
   "file_extension": ".py",
   "mimetype": "text/x-python",
   "name": "python",
   "nbconvert_exporter": "python",
   "pygments_lexer": "ipython3",
   "version": "3.11.4"
  }
 },
 "nbformat": 4,
 "nbformat_minor": 5
}
